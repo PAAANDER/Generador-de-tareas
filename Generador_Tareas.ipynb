{
  "nbformat": 4,
  "nbformat_minor": 0,
  "metadata": {
    "colab": {
      "provenance": [],
      "authorship_tag": "ABX9TyNJBiipuQ2MC1Kl/GkwYK0L",
      "include_colab_link": true
    },
    "kernelspec": {
      "name": "python3",
      "display_name": "Python 3"
    },
    "language_info": {
      "name": "python"
    }
  },
  "cells": [
    {
      "cell_type": "markdown",
      "metadata": {
        "id": "view-in-github",
        "colab_type": "text"
      },
      "source": [
        "<a href=\"https://colab.research.google.com/github/PAAANDER/Generador-de-tareas/blob/main/Generador_Tareas.ipynb\" target=\"_parent\"><img src=\"https://colab.research.google.com/assets/colab-badge.svg\" alt=\"Open In Colab\"/></a>"
      ]
    },
    {
      "cell_type": "code",
      "execution_count": null,
      "metadata": {
        "colab": {
          "base_uri": "https://localhost:8080/"
        },
        "id": "7bGYiYyAQiJf",
        "outputId": "2f41e71a-383c-477a-e1c9-f3eefc42d79d"
      },
      "outputs": [
        {
          "output_type": "stream",
          "name": "stdout",
          "text": [
            "\n",
            "Menu:\n",
            "1. Agregar tarea\n",
            "2. Eliminar tarea\n",
            "3. Ver tareas\n",
            "4. Salir\n",
            "Seleccione una opción: 1\n",
            "Ingrese la tarea que desea agregar: Pagar los servicios.\n",
            "Tarea agregada: Pagar los servicios.\n",
            "\n",
            "Menu:\n",
            "1. Agregar tarea\n",
            "2. Eliminar tarea\n",
            "3. Ver tareas\n",
            "4. Salir\n",
            "Seleccione una opción: 1\n",
            "Ingrese la tarea que desea agregar: Comprar lo del desayuno.\n",
            "Tarea agregada: Comprar lo del desayuno.\n",
            "\n",
            "Menu:\n",
            "1. Agregar tarea\n",
            "2. Eliminar tarea\n",
            "3. Ver tareas\n",
            "4. Salir\n",
            "Seleccione una opción: 2\n",
            "Tareas pendientes:\n",
            "1. Pagar los servicios.\n",
            "2. Comprar lo del desayuno.\n",
            "Ingrese el número de la tarea que desea eliminar: 2\n",
            "Tarea eliminada: Comprar lo del desayuno.\n",
            "\n",
            "Menu:\n",
            "1. Agregar tarea\n",
            "2. Eliminar tarea\n",
            "3. Ver tareas\n",
            "4. Salir\n",
            "Seleccione una opción: 3\n",
            "Tareas pendientes:\n",
            "1. Pagar los servicios.\n",
            "\n",
            "Menu:\n",
            "1. Agregar tarea\n",
            "2. Eliminar tarea\n",
            "3. Ver tareas\n",
            "4. Salir\n"
          ]
        }
      ],
      "source": [
        "class ListaTareas:\n",
        "    def __init__(self):\n",
        "        self.tareas = []\n",
        "\n",
        "    def agregar_tarea(self):\n",
        "        tarea = input(\"Ingrese la tarea que desea agregar: \")\n",
        "        self.tareas.append(tarea)\n",
        "        print(\"Tarea agregada:\", tarea)\n",
        "\n",
        "    def eliminar_tarea(self):\n",
        "        if not self.tareas:\n",
        "            print(\"No hay tareas pendientes para eliminar.\")\n",
        "            return\n",
        "\n",
        "        self.mostrar_tareas()\n",
        "\n",
        "        try:\n",
        "            numero = int(input(\"Ingrese el número de la tarea que desea eliminar: \"))\n",
        "            if 1 <= numero <= len(self.tareas):\n",
        "                tarea_eliminada = self.tareas.pop(numero - 1)\n",
        "                print(\"Tarea eliminada:\", tarea_eliminada)\n",
        "            else:\n",
        "                print(\"Número de tarea inválido.\")\n",
        "        except ValueError:\n",
        "            print(\"Por favor, ingrese un número válido.\")\n",
        "\n",
        "    def ver_tareas(self):\n",
        "        if not self.tareas:\n",
        "            print(\"No hay tareas pendientes.\")\n",
        "        else:\n",
        "            self.mostrar_tareas()\n",
        "\n",
        "    def mostrar_tareas(self):\n",
        "        print(\"Tareas pendientes:\")\n",
        "        for i, tarea in enumerate(self.tareas):\n",
        "            print(f\"{i + 1}. {tarea}\")\n",
        "\n",
        "\n",
        "def main():\n",
        "    lista_tareas = ListaTareas()\n",
        "\n",
        "    while True:\n",
        "        print(\"\\nMenu:\")\n",
        "        print(\"1. Agregar tarea\")\n",
        "        print(\"2. Eliminar tarea\")\n",
        "        print(\"3. Ver tareas\")\n",
        "        print(\"4. Salir\")\n",
        "\n",
        "        opcion = input(\"Seleccione una opción: \")\n",
        "\n",
        "        if opcion == '1':\n",
        "            lista_tareas.agregar_tarea()\n",
        "        elif opcion == '2':\n",
        "            lista_tareas.eliminar_tarea()\n",
        "        elif opcion == '3':\n",
        "            lista_tareas.ver_tareas()\n",
        "        elif opcion == '4':\n",
        "            print(\"Saliendo del programa.\")\n",
        "            break\n",
        "        else:\n",
        "            print(\"Opción inválida. Por favor, seleccione una opción válida.\")\n",
        "\n",
        "\n",
        "if __name__ == \"__main__\":\n",
        "    main()"
      ]
    }
  ]
}